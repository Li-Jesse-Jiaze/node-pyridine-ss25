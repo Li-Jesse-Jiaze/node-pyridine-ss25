{
 "cells": [
  {
   "cell_type": "code",
   "execution_count": 1,
   "id": "c669ed76",
   "metadata": {},
   "outputs": [],
   "source": [
    "import numpy as np\n",
    "import dms_estimator as dmse\n",
    "from matplotlib import pyplot as plt\n",
    "\n",
    "%matplotlib inline\n",
    "plt.rc('figure', dpi=100)\n",
    "np.set_printoptions(linewidth=100, suppress=True, precision=2, floatmode='fixed')"
   ]
  },
  {
   "cell_type": "code",
   "execution_count": 2,
   "id": "0086b039",
   "metadata": {},
   "outputs": [
    {
     "data": {
      "application/vnd.jupyter.widget-view+json": {
       "model_id": "0244afb38c47416984e9531c88be98e8",
       "version_major": 2,
       "version_minor": 0
      },
      "text/plain": [
       "interactive(children=(IntSlider(value=500, continuous_update=False, description='#Meas', max=500, min=1), IntS…"
      ]
     },
     "metadata": {},
     "output_type": "display_data"
    }
   ],
   "source": [
    "# Pyridine\n",
    "from ipywidgets import interact, IntSlider, Dropdown\n",
    "\n",
    "cfg = dmse.ModelConfig(\n",
    "        name=\"Pyridine\",\n",
    "        build_integrator=dmse.pyridine_problem,\n",
    "        true_p=[1.81, 0.894, 29.4, 9.21, 0.058, 2.43, 0.0644, 5.55, 0.0201, 0.577, 2.15],\n",
    "        x0=np.array([1.0, 0.0, 0.0, 0.0, 0.0, 0.0, 0.0]),\n",
    "        p_init=[1.0] * 11,\n",
    "        state_labels=list(\"ABCDEFG\"),\n",
    ")\n",
    "\n",
    "def run_estimation(num_meas, num_shooting, strategy):\n",
    "    print(f\"Start with (num_meas={num_meas}, num_shooting={num_shooting}, strategy='{strategy}'):\")\n",
    "    T = 5.0\n",
    "    dt = T / num_meas\n",
    "    t_grid = np.arange(0.0, T, dt)\n",
    "\n",
    "    integrator, ode, states, params = cfg.build_integrator(dt)\n",
    "    _, X_meas = dmse.generate_data(integrator, t_grid, cfg.x0, cfg.true_p, noise_std=1e-2)\n",
    "    # Perform estimation\n",
    "    p_hat, s_hat = dmse.estimate(\n",
    "        ode,\n",
    "        states,\n",
    "        params,\n",
    "        t_grid,\n",
    "        X_meas,\n",
    "        cfg.p_init,\n",
    "        num_shooting=num_shooting,\n",
    "        strategy=strategy,\n",
    "    )\n",
    "    # Plot results\n",
    "    dmse.plot(t_grid, X_meas, s_hat, cfg.state_labels, show_every=5)\n",
    "    plt.show()\n",
    "    print(p_hat)\n",
    "    print(\"True parameters:\")\n",
    "    print(np.array(cfg.true_p))\n",
    "\n",
    "# Create interactive sliders and dropdown\n",
    "_ = interact(\n",
    "    run_estimation,\n",
    "    num_meas=IntSlider(\n",
    "        value=500,\n",
    "        min=1,\n",
    "        max=500,\n",
    "        step=1,\n",
    "        description='#Meas',\n",
    "        continuous_update=False\n",
    "    ),\n",
    "    num_shooting=IntSlider(\n",
    "        value=50,\n",
    "        min=1,\n",
    "        max=500,\n",
    "        step=1,\n",
    "        description='#Node',\n",
    "        continuous_update=False\n",
    "    ),\n",
    "    strategy=Dropdown(\n",
    "        options=['ipopt', 'gn', 'gn_fast'],\n",
    "        value='gn',\n",
    "        description='Strategy'\n",
    "    )\n",
    ")"
   ]
  }
 ],
 "metadata": {
  "kernelspec": {
   "display_name": ".venv",
   "language": "python",
   "name": "python3"
  },
  "language_info": {
   "codemirror_mode": {
    "name": "ipython",
    "version": 3
   },
   "file_extension": ".py",
   "mimetype": "text/x-python",
   "name": "python",
   "nbconvert_exporter": "python",
   "pygments_lexer": "ipython3",
   "version": "3.13.0"
  }
 },
 "nbformat": 4,
 "nbformat_minor": 5
}
