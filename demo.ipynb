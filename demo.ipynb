{
 "cells": [
  {
   "cell_type": "markdown",
   "id": "ed9dd3a2",
   "metadata": {},
   "source": [
    "# Accurate $p$ Estimation — 10k Measurements in 5 Seconds\n",
    "\n",
    "**Key features**:\n",
    "- Robustness:\n",
    "    - Works even if numerical integration fails or the system is chaotic;\n",
    "    - Handles measurements with unequal time steps;\n",
    "    - Allow less shooting nodes than the measurements;\n",
    "- Effectiveness: \n",
    "    - Shooting in parallel;\n",
    "    - Solve sparse QP with Schur complement;\n",
    "    - `ipopt` with precomputed $H=J^\\top J$ and `JIT`."
   ]
  },
  {
   "cell_type": "markdown",
   "id": "6578f0b9",
   "metadata": {},
   "source": [
    "## Plan vs Actual\n",
    "\n",
    "**Plan**: One week per Milestone.\n",
    "\n",
    "**Actual**:\n",
    "- Week 1: \n",
    "    - Environment (all)\n",
    "    - Papers (all)\n",
    "    - Code framework (Jiaze Li)\n",
    "    - Start `_build_cnlls` (Heyuan Chi) and `_solve_ipopt` (Jiaze Li)\n",
    "- Week 2:\n",
    "    - Start `examples.py` (Jiaze Li)\n",
    "    - Start `_solve_gn` (Heyuan Chi)\n",
    "- Week 3: \n",
    "    - Gauss-Newton sometimes does not converge, add line search (Heyuan Chi)\n",
    "    - Start `demo.ipynb` (Jiaze Li)\n",
    "- Week 4: Realized that shooting can be **parallel** and $H$ is **sparse**\n",
    "    - Refactored `_build_cnlls` (Jiaze Li)\n",
    "    - Add Schur complement in `_solve_gn` (Jiaze Li)\n",
    "\n",
    "*In \\(\\*\\) are the people who mainly wrote the code, but the math are discussed by all of us*"
   ]
  },
  {
   "cell_type": "markdown",
   "id": "95d5b991",
   "metadata": {},
   "source": [
    "## Some demo"
   ]
  },
  {
   "cell_type": "code",
   "execution_count": null,
   "id": "32f32ad0",
   "metadata": {
    "jupyter": {
     "source_hidden": true
    }
   },
   "outputs": [],
   "source": [
    "import numpy as np\n",
    "import dms_estimator as dmse\n",
    "from matplotlib import pyplot as plt\n",
    "\n",
    "%matplotlib inline\n",
    "plt.rc('figure', dpi=100)\n",
    "np.set_printoptions(linewidth=100, suppress=True, precision=2, floatmode='fixed')"
   ]
  },
  {
   "cell_type": "markdown",
   "id": "1267b251",
   "metadata": {},
   "source": [
    "###  Effectiveness of multiple shooting\n",
    "\n",
    "Notorious test in §6 of [[Bock07](https://onlinelibrary.wiley.com/doi/pdf/10.1002/gamm.200790024?casa_token=1vkAqyG6JuwAAAAA%3AGwUN3aX6DOsp_FOatMYMQSZCDm27CWARJg90nhxYuZE_UCYlOsUxKim3UcWdrZjMtffexjzbiOGRJA)]\n",
    "\n",
    "ODE:\n",
    "$$\n",
    "\\dot{x}_1=x_2 \\quad \\dot{x}_2=\\mu^2 x_1-\\left(\\mu^2+p^2\\right) \\sin p t \\quad t \\in[0,1]\n",
    "$$\n",
    "\n",
    "Initial values:\n",
    "$$\n",
    "x_1(0)=0 \\quad x_2(0)=\\pi\n",
    "$$\n",
    "\n",
    "The solution for the true parameter value $p=\\pi$\n",
    "\n",
    "$$\n",
    "x_1(t)=\\sin \\pi t, \\quad x_2(t)=\\pi \\cos \\pi t\n",
    "$$"
   ]
  },
  {
   "cell_type": "code",
   "execution_count": null,
   "id": "d7b5a2c6",
   "metadata": {
    "jupyter": {
     "source_hidden": true
    }
   },
   "outputs": [],
   "source": [
    "# Setup notorious test\n",
    "cfg = dmse.ModelConfig(\n",
    "        name=\"Notorious\",\n",
    "        build_integrator=dmse.notorious_problem,\n",
    "        true_p=[np.pi],\n",
    "        x0=np.array([0.0, np.pi, 0.0]),\n",
    "        p_init=[1.0],\n",
    "        state_labels=[\"x1\", \"x2\", \"t\"],\n",
    ")"
   ]
  },
  {
   "cell_type": "markdown",
   "id": "39d44fca",
   "metadata": {},
   "source": [
    "Let's see what happens when we do numerical integration from $0$"
   ]
  },
  {
   "cell_type": "code",
   "execution_count": null,
   "id": "de35aa35",
   "metadata": {
    "jupyter": {
     "source_hidden": true
    }
   },
   "outputs": [],
   "source": [
    "# Comparing numerical and analytical solutions\n",
    "dt = 0.01\n",
    "t_grid = np.arange(0.0, 1.0, dt)\n",
    "\n",
    "integrator, ode, states, params = cfg.build_integrator(dt)\n",
    "X_true, X_meas = dmse.generate_data(integrator, t_grid, cfg.x0, cfg.true_p, noise_std=0.0)\n",
    "plt.plot(t_grid, X_true[:, 0], label='cvodes solution')\n",
    "\n",
    "dt = 0.01\n",
    "t_grid = np.arange(0.0, 1.0, dt)\n",
    "\n",
    "X_true = np.array([\n",
    "    np.sin(np.pi * t_grid), \n",
    "    np.pi * np.cos(np.pi * t_grid), \n",
    "    t_grid]\n",
    "    ).T\n",
    "rng = np.random.default_rng(42)\n",
    "plt.plot(t_grid, X_true[:, 0], label='analytic solution')\n",
    "\n",
    "plt.ylabel(\"$x_1$\")\n",
    "plt.ylim(0, 2)\n",
    "plt.legend()\n",
    "plt.show()"
   ]
  },
  {
   "cell_type": "code",
   "execution_count": null,
   "id": "34045367",
   "metadata": {
    "jupyter": {
     "source_hidden": true
    }
   },
   "outputs": [],
   "source": [
    "# Generate data with analytic solution\n",
    "dt = 0.1\n",
    "t_grid = np.arange(0.0, 1.0, dt)\n",
    "\n",
    "X_true = np.array([\n",
    "    np.sin(np.pi * t_grid), \n",
    "    np.pi * np.cos(np.pi * t_grid), \n",
    "    t_grid]\n",
    "    ).T\n",
    "rng = np.random.default_rng(42)\n",
    "X_meas = X_true + 0.01 * rng.standard_normal(X_true.shape)"
   ]
  },
  {
   "cell_type": "code",
   "execution_count": null,
   "id": "2b6e74c4",
   "metadata": {
    "jupyter": {
     "source_hidden": true
    }
   },
   "outputs": [],
   "source": [
    "print(\"[Single Shooting]\")\n",
    "p_hat, s_hat = dmse.estimate(\n",
    "    ode,\n",
    "    states,\n",
    "    params,\n",
    "    t_grid,\n",
    "    X_true,\n",
    "    cfg.p_init,\n",
    "    num_shooting=1,\n",
    "    strategy=\"gn_fast\",\n",
    ")\n",
    "print(f\"Estimated:\\n{p_hat}\")\n",
    "print(f\"True:\\n{np.array(cfg.true_p)}\")"
   ]
  },
  {
   "cell_type": "markdown",
   "id": "ccdd9afa",
   "metadata": {},
   "source": [
    "Single shooting failed, try multiple shooting"
   ]
  },
  {
   "cell_type": "code",
   "execution_count": null,
   "id": "96d3df95",
   "metadata": {
    "jupyter": {
     "source_hidden": true
    }
   },
   "outputs": [],
   "source": [
    "print(\"[Multiple Shooting]\")\n",
    "p_hat, s_hat = dmse.estimate(\n",
    "    ode,\n",
    "    states,\n",
    "    params,\n",
    "    t_grid,\n",
    "    X_meas,\n",
    "    cfg.p_init,\n",
    "    num_shooting=len(t_grid),\n",
    "    strategy=\"gn\",\n",
    ")\n",
    "print(f\"Estimated:\\n{p_hat}\")\n",
    "print(f\"True:\\n{np.array(cfg.true_p)}\")"
   ]
  },
  {
   "cell_type": "markdown",
   "id": "3db87cbd",
   "metadata": {},
   "source": [
    "Even for [**chaotic**](https://en.wikipedia.org/wiki/Lorenz_system#) dynamic system!\n",
    "\n",
    "$$\n",
    "\\begin{aligned}\n",
    "& \\dot{x}=\\sigma(y-x), \\\\\n",
    "& \\dot{y}=x(\\rho-z)-y, \\\\\n",
    "& \\dot{z}=x y-\\beta z .\n",
    "\\end{aligned}\n",
    "$$"
   ]
  },
  {
   "cell_type": "code",
   "execution_count": null,
   "id": "38342e39",
   "metadata": {
    "jupyter": {
     "source_hidden": true
    }
   },
   "outputs": [],
   "source": [
    "# Try Lorenz system\n",
    "cfg = dmse.ModelConfig(\n",
    "        name=\"Lorenz\",\n",
    "        build_integrator=dmse.lorenz_problem,\n",
    "        true_p=[10.0, 28.0, 8.0/3.0],\n",
    "        x0=np.array([3.0, 1.5, 15.0]),\n",
    "        p_init=[10.0, 30.0, 3.0],\n",
    "        state_labels=[\"x\", \"y\", \"z\"],\n",
    ")\n",
    "\n",
    "dt = 0.02\n",
    "t_grid = np.arange(0.0, 10.0, dt)\n",
    "\n",
    "integrator, ode, states, params = cfg.build_integrator(dt)\n",
    "X_true, X_meas = dmse.generate_data(integrator, t_grid, cfg.x0, cfg.true_p, noise_std=0.0)\n",
    "\n",
    "p_hat, s_hat = dmse.estimate(\n",
    "    ode,\n",
    "    states,\n",
    "    params,\n",
    "    t_grid,\n",
    "    X_meas,\n",
    "    cfg.p_init,\n",
    "    num_shooting=500,\n",
    "    strategy=\"gn_fast\",\n",
    ")\n",
    "dmse.plot(t_grid, X_meas[:, :2], s_hat[:, :2], cfg.state_labels[:2], true=X_true[:, :2])\n",
    "plt.show()\n",
    "print(f\"Estimated:\\n{p_hat}\")\n",
    "print(f\"True:\\n{np.array(cfg.true_p)}\")"
   ]
  },
  {
   "cell_type": "markdown",
   "id": "044af48c",
   "metadata": {},
   "source": [
    "### Solve the pyridine problem"
   ]
  },
  {
   "cell_type": "code",
   "execution_count": null,
   "id": "4771c0a8",
   "metadata": {
    "jupyter": {
     "source_hidden": true
    }
   },
   "outputs": [],
   "source": [
    "# Pyridine\n",
    "from ipywidgets import interact, IntSlider, Dropdown\n",
    "\n",
    "cfg = dmse.ModelConfig(\n",
    "        name=\"Pyridine\",\n",
    "        build_integrator=dmse.pyridine_problem,\n",
    "        true_p=[1.81, 0.894, 29.4, 9.21, 0.058, 2.43, 0.0644, 5.55, 0.0201, 0.577, 2.15],\n",
    "        x0=np.array([1.0, 0.0, 0.0, 0.0, 0.0, 0.0, 0.0]),\n",
    "        p_init=[1.0] * 11,\n",
    "        state_labels=list(\"ABCDEFG\"),\n",
    ")\n",
    "\n",
    "T = 5.0\n",
    "dt = T / 500\n",
    "t_grid = np.arange(0.0, T, dt)\n",
    "integrator, ode, states, params = cfg.build_integrator(dt)\n",
    "_, X_meas = dmse.generate_data(integrator, t_grid, cfg.x0, cfg.true_p, noise_std=1e-2)\n",
    "# Perform estimation\n",
    "p_hat, s_hat = dmse.estimate(\n",
    "    ode,\n",
    "    states,\n",
    "    params,\n",
    "    t_grid,\n",
    "    X_meas,\n",
    "    cfg.p_init,\n",
    "    num_shooting=500,\n",
    "    strategy=\"gn_fast\",\n",
    ")\n",
    "# Plot results\n",
    "dmse.plot(t_grid, X_meas, s_hat, cfg.state_labels, show_every=5)\n",
    "plt.show()\n",
    "print(p_hat)\n",
    "print(\"True parameters:\")\n",
    "print(np.array(cfg.true_p))"
   ]
  },
  {
   "cell_type": "markdown",
   "id": "c0200a2f",
   "metadata": {},
   "source": [
    "$p_4$ is the coefficient of $C^2$ and $p_8, p_{11}$ if the coefficient of E\n",
    "\n",
    "$C$ and $E$ are almost $0$, so larger error for these three."
   ]
  },
  {
   "cell_type": "markdown",
   "id": "ed2ab191",
   "metadata": {},
   "source": [
    "## Code Structure\n",
    "\n",
    "```\n",
    "dms_estimator/\n",
    "├── __init__.py\n",
    "├── utils.py\n",
    "├── parameter_estimator.py\n",
    "└── interface.py\n",
    "```\n",
    "\n",
    "Core: `parameter_estimator.py`\n",
    "\n",
    "| Method                 | What it does                                                 |\n",
    "| ---------------------- | ------------------------------------------------------------ |\n",
    "| **Static helpers**     | *Pure utility*, not tied to an instance. <br/>`_select_jit()` → decide whether CasADi’s JIT compiler is available (clang / shell). <br/>`_has_hsl()` → check for sparse HSL linear solvers (MA27, etc.). |\n",
    "| **`__init__()`**       | Stores user data (ODE, symbols, measurements, options). <br/>Determines the number of shooting nodes and issues warnings if it differs from the number of measurements. <br/>Calls `_build_cnlls()` to create the constrained nonlinear least-squares (CNLLS) problem. |\n",
    "| **`_build_cnlls()`**   | Heart of the multiple-shooting setup.<br/>1. Computes measurement time steps `Δt`.<br/>2. Constructs a *single-step* RK4 integrator function `one_step_dt`.<br/>3. Creates symbolic shooting-node state matrix `Xv` and maps the integrator across all intervals in parallel (`map(\"thread\")`).<br/>4. Handles two cases: one node = one measurement (simpler) vs. fewer nodes than measurements .<br/>5. Produces:<br/>  • Decision vector `self.variables = [p, Xv]`<br/>  • Residual vector between predicted & measured states (`self.errors`)<br/>  • Continuity constraints `self.constrain` (gaps ≡ 0)<br/>  • Initial guess `self.x0`. |\n",
    "| **`solve()` (public)** | Simple dispatcher that calls one of three back-end solvers based on the chosen strategy string. |\n",
    "| **`_solve_ipopt()`**   | • Builds a *full-space* nonlinear program *f = ½‖e‖²; g = gaps* and calls CasADi’s **IPOPT** backend. <br/>• Uses IPOPT’s own quasi-Newton Hessian (unless the user enables exact). |\n",
    "| **`_solve_gn_fast()`** | *Gauss-Newton Hessian + IPOPT*<br/>1. Symbolically forms Jacobian `J = ∂e/∂w`.<br/>2. Supplies IPOPT with an exact Gauss-Newton Hessian H = JᵀJ via a lightweight callback (`hess_lag`). Only its upper triangle is stored to exploit symmetry. |\n",
    "| **`_solve_gn()`**      | *Pure, Gauss-Newton with qpoases*<br/>1. Builds functions for residuals, constraints, their Jacobians, and objective.<br/>2. Outer loop: up to `max_iter`, evaluate residuals, assemble H = JᵀJ and g = Jᵀr.<br/>3. Inner QP (`solve_qp` helper): solves. Implemented with CasADi’s `qpoases` wrapper; uses the HSL Schur option when available.<br/>4. Back-tracking Armijo line-search ensures objective decrease.<br/>5. Terminates on small relative residual improvement or stagnation. |\n",
    "\n",
    "Check out Christian Kirches' presentation [A sparse variant of qpOASES](https://www.syscop.de/files/2014ss/imtek-tempo/EQP_2014_Kirches.pdf) at EQP2014 to learn how Schur complementary works."
   ]
  },
  {
   "cell_type": "markdown",
   "id": "09790931",
   "metadata": {},
   "source": [
    "## Benchmark Test\n",
    "\n",
    "Time(s) consumed for different \\#measurements, \\#nodes and strategies(from `benchmark.py`)\n",
    "\n",
    "![table](./assets/table.svg)\n",
    "\n",
    "\\*all converge to acceptable result\n",
    "\n",
    "where\n",
    "- **IP** is `ipopt`\n",
    "- **IG** is `ipopt` with the given $H = J^\\top J$ and `JIT`\n",
    "- **GN** is the Gauß-Newton with Schur complement.\n",
    "\n",
    "**Findings**:\n",
    "- **GN**: Gauß-Newton is optimal when the `#node` is small;\n",
    "- **IPs**: The complexity of the `ipopt` does not increase significantly with the number of decision variables;\n",
    "- **IG**: Outstanding in large-scale. Possible reasons:\n",
    "    1. Using $J^\\top J$ saves time in computing the Hessian and is good enough in least squares problems;\n",
    "    2. `JIT` compiles the solver firstly thus saving time for each iteration.\n",
    "\n",
    "**Problems**:\n",
    "- I don't think the complexity of `qpoases` here should be more than $\\mathcal{O}(n)$, but time-wise it's close to this."
   ]
  },
  {
   "cell_type": "code",
   "execution_count": null,
   "id": "7d12b492",
   "metadata": {},
   "outputs": [],
   "source": []
  }
 ],
 "metadata": {
  "kernelspec": {
   "display_name": ".venv",
   "language": "python",
   "name": "python3"
  },
  "language_info": {
   "codemirror_mode": {
    "name": "ipython",
    "version": 3
   },
   "file_extension": ".py",
   "mimetype": "text/x-python",
   "name": "python",
   "nbconvert_exporter": "python",
   "pygments_lexer": "ipython3",
   "version": "3.13.0"
  }
 },
 "nbformat": 4,
 "nbformat_minor": 5
}
